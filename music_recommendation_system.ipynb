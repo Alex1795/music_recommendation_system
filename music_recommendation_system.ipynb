{
 "cells": [
  {
   "cell_type": "code",
   "execution_count": 158,
   "id": "9f80bb8b-143c-43c3-af7e-ffb567404599",
   "metadata": {},
   "outputs": [],
   "source": [
    "from panns_inference import AudioTagging\n",
    "import numpy as np\n",
    "import librosa\n",
    "from elasticsearch import Elasticsearch\n",
    "import os\n",
    "from tinytag import TinyTag"
   ]
  },
  {
   "cell_type": "code",
   "execution_count": 165,
   "id": "f35c77f9-ce49-4fbd-b4da-3158c7ee5fef",
   "metadata": {},
   "outputs": [],
   "source": [
    "# Set environment variabes\n",
    " \n",
    "\n",
    "os.environ[\"ES_CLOUD\"] = \"<your_es_cloud_id>\" \n",
    "os.environ[\"ES_KEY\"] = \"<your_es_api_key>\"\n"
   ]
  },
  {
   "cell_type": "code",
   "execution_count": 160,
   "id": "be657164-6380-43cc-8d31-43f855da94f6",
   "metadata": {},
   "outputs": [
    {
     "name": "stdout",
     "output_type": "stream",
     "text": [
      "Checkpoint path: /Users/alexanderdavila/panns_data/Cnn14_mAP=0.431.pth\n",
      "Using CPU.\n"
     ]
    }
   ],
   "source": [
    "# Load model to get embeddings from audio\n",
    "\n",
    "model = AudioTagging(checkpoint_path=None, device='cuda')"
   ]
  },
  {
   "cell_type": "code",
   "execution_count": 161,
   "id": "0a603b17-e013-44d8-881e-9143655c30e6",
   "metadata": {},
   "outputs": [],
   "source": [
    "# Function to normalize a vector \n",
    "\n",
    "def normalize(v):\n",
    "   norm = np.linalg.norm(v)\n",
    "   if norm == 0:\n",
    "        return v\n",
    "   return v / norm"
   ]
  },
  {
   "cell_type": "code",
   "execution_count": 162,
   "id": "ebe38dbe-35ac-4bf6-a927-a11633108e3e",
   "metadata": {},
   "outputs": [],
   "source": [
    "# Function to generate an embedding from an audio file\n",
    "\n",
    "def get_embedding (audio_file):\n",
    "  a, _ = librosa.load(audio_file, sr=44100)\n",
    "  query_audio = a[None, :]\n",
    "  _, emb = model.inference(query_audio)\n",
    "  normalized_v = normalize(emb[0])\n",
    "  return normalized_v"
   ]
  },
  {
   "cell_type": "code",
   "execution_count": 163,
   "id": "f7d3956a-435d-4cf8-b563-d1497c83e6ad",
   "metadata": {},
   "outputs": [],
   "source": [
    "# Function to generate a elastic-friendly document from the song data\n",
    "\n",
    "def generate_song_document (song):\n",
    "    emb = get_embedding(song)\n",
    "    metadata = TinyTag.get(song)\n",
    "    document = {\"title\":song.strip(\"dataset/\"),\"embedding\":emb, \"album\":metadata.album,\"artist\":str(metadata.artist).split(\"/\")}\n",
    "    return document"
   ]
  },
  {
   "cell_type": "code",
   "execution_count": 166,
   "id": "e3751655-6d3e-496f-a8ff-5af81914bd24",
   "metadata": {},
   "outputs": [
    {
     "name": "stdout",
     "output_type": "stream",
     "text": [
      "<Elasticsearch(['https://6f49f79dd5454e49a08b00ab313c004b.us-east-1.aws.found.io:443'])>\n"
     ]
    }
   ],
   "source": [
    "#Connection to Elasticsearch\n",
    "\n",
    "index = \"songs_test\"\n",
    "ES_CLOUD = os.environ[\"ES_CLOUD\"]\n",
    "KEY = os.environ[\"ES_KEY\"]\n",
    "\n",
    "es = Elasticsearch(cloud_id=ES_CLOUD,api_key=KEY)\n",
    "\n",
    "\n",
    "print(es) "
   ]
  },
  {
   "cell_type": "code",
   "execution_count": 167,
   "id": "a022b74e-4b26-4711-a522-632e4219fb82",
   "metadata": {},
   "outputs": [],
   "source": [
    "# Function to upload a document to elasticsearh\n",
    "\n",
    "def elastic_upload(doc):\n",
    "    res = es.index(index=index, document=doc,id=doc[\"title\"])\n",
    "\n",
    "    return res"
   ]
  },
  {
   "cell_type": "code",
   "execution_count": 168,
   "id": "b3b9612c-f28f-4b90-9172-6991f2d67852",
   "metadata": {},
   "outputs": [
    {
     "name": "stdout",
     "output_type": "stream",
     "text": [
      "37\n"
     ]
    }
   ],
   "source": [
    "# Listing all the audio files in the dataset/ directory\n",
    "\n",
    "songs = os.listdir(\"dataset/\")\n",
    "print(len(songs))"
   ]
  },
  {
   "cell_type": "code",
   "execution_count": 169,
   "id": "bfa00723-333c-46d8-ab9c-446efef873bb",
   "metadata": {},
   "outputs": [],
   "source": [
    "# Function to get a random document to Elasticsearch (to get a sample song to generate recommendations)\n",
    "\n",
    "def get_random_doc():\n",
    "    random_query = {\n",
    "          \"function_score\": {\n",
    "             \"functions\": [\n",
    "                {\n",
    "                   \"random_score\": {\n",
    "                     \n",
    "                   }\n",
    "                }\n",
    "             ]\n",
    "          }\n",
    "    }\n",
    "    doc = es.search(query=random_query, index=index, size=1)\n",
    "\n",
    "    return doc[\"hits\"][\"hits\"][0]\n",
    "    "
   ]
  },
  {
   "cell_type": "code",
   "execution_count": 170,
   "id": "bfc418f2-6003-48fe-864c-0d6a77d51df4",
   "metadata": {},
   "outputs": [],
   "source": [
    "# Generating embeddings and uploading the document for each song\n",
    "\n",
    "for song in songs:\n",
    "    doc = generate_song_document(\"dataset/\"+song)\n",
    "    elastic_upload(doc)\n",
    "    songs.remove(song)"
   ]
  },
  {
   "cell_type": "code",
   "execution_count": 196,
   "id": "58f4830d-b878-4f66-8421-216a3ac81eb9",
   "metadata": {},
   "outputs": [
    {
     "name": "stdout",
     "output_type": "stream",
     "text": [
      "Search_song:  Meet Me Halfway.mp3\n",
      "by:  ['Black Eyed Peas']\n",
      "album:  THE E.N.D. (THE ENERGY NEVER DIES) [Deluxe Version]\n",
      "-------------------------------\n",
      "-------------------------------\n"
     ]
    }
   ],
   "source": [
    "# Getting a random song and extracting the data\n",
    "\n",
    "search_song = get_random_doc()\n",
    "search_emb = search_song[\"_source\"][\"embedding\"]\n",
    "print(\"Search_song: \",search_song[\"_source\"][\"title\"])\n",
    "\n",
    "print(\"by: \",search_song[\"_source\"][\"artist\"])\n",
    "print(\"album: \",search_song[\"_source\"][\"album\"])\n",
    "print(\"-------------------------------\")\n",
    "print(\"-------------------------------\")"
   ]
  },
  {
   "cell_type": "code",
   "execution_count": 200,
   "id": "6ba5d31e-db5f-4d07-b96f-c5a39636c8ec",
   "metadata": {},
   "outputs": [],
   "source": [
    "# knn query to get related embeddings --> This is the recommendation system main operation\n",
    "\n",
    "knn_query = {\n",
    "        \"field\": \"embedding\",\n",
    "        \"query_vector\": search_emb,\n",
    "        \"num_candidates\": 100,\n",
    "        \"k\":3\n",
    "    }\n",
    "\n",
    "# filter on the knn query to filter out the selected random song, otherwise that same song would be the top result every time\n",
    "\n",
    "knn_query[\"filter\"] = {\n",
    "                \"bool\": {\n",
    "                  \"must_not\":{\n",
    "                    \"bool\":{\n",
    "                      \"filter\":[\n",
    "                        {\n",
    "                          \"term\":{\n",
    "                            \"_id\": search_song[\"_source\"][\"title\"]\n",
    "                          }\n",
    "                        }\n",
    "                      ]\n",
    "                    }\n",
    "                  }\n",
    "                }\n",
    "              }\n"
   ]
  },
  {
   "cell_type": "code",
   "execution_count": 201,
   "id": "020e50ec-79bd-4c4d-a9a4-c165b95b3d2b",
   "metadata": {},
   "outputs": [
    {
     "name": "stdout",
     "output_type": "stream",
     "text": [
      "Recommended songs: \n",
      "\n",
      "song:  Till I Collapse.mp3\n",
      "by:  ['Eminem', 'Nate Dogg']\n",
      "album:  The Eminem Show\n",
      "-------------------------------\n",
      "song:  TiK ToK.mp3\n",
      "by:  ['Kesha']\n",
      "album:  Animal (Expanded Edition)\n",
      "-------------------------------\n",
      "song:  Gimme More.mp3\n",
      "by:  ['Britney Spears']\n",
      "album:  Blackout\n",
      "-------------------------------\n"
     ]
    }
   ],
   "source": [
    "# Run the recommendation search and print results\n",
    "\n",
    "\n",
    "\n",
    "res = es.search(index=index,knn=knn_query,source=[\"title\",\"artist\",\"album\"])#,filter=filter)\n",
    "recommended_songs = res[\"hits\"][\"hits\"]\n",
    "print(\"Recommended songs: \\n\")\n",
    "\n",
    "for song in recommended_songs:\n",
    "    \n",
    "    print(\"song: \",song[\"_source\"][\"title\"])\n",
    "    print(\"by: \",song[\"_source\"][\"artist\"])\n",
    "    print(\"album: \",song[\"_source\"][\"album\"])\n",
    "    print(\"-------------------------------\")\n"
   ]
  },
  {
   "cell_type": "code",
   "execution_count": null,
   "id": "24419309-2322-4802-8171-7d963d840da7",
   "metadata": {},
   "outputs": [],
   "source": []
  }
 ],
 "metadata": {
  "kernelspec": {
   "display_name": "Python 3 (ipykernel)",
   "language": "python",
   "name": "python3"
  },
  "language_info": {
   "codemirror_mode": {
    "name": "ipython",
    "version": 3
   },
   "file_extension": ".py",
   "mimetype": "text/x-python",
   "name": "python",
   "nbconvert_exporter": "python",
   "pygments_lexer": "ipython3",
   "version": "3.11.8"
  }
 },
 "nbformat": 4,
 "nbformat_minor": 5
}
